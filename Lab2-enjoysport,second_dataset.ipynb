{
  "nbformat": 4,
  "nbformat_minor": 0,
  "metadata": {
    "colab": {
      "provenance": [],
      "mount_file_id": "1KPYOlrLnigbZOtoI2azzJqyvpRCQvK6u",
      "authorship_tag": "ABX9TyO3M9h/miT57Z07lASMuMdv",
      "include_colab_link": true
    },
    "kernelspec": {
      "name": "python3",
      "display_name": "Python 3"
    },
    "language_info": {
      "name": "python"
    }
  },
  "cells": [
    {
      "cell_type": "markdown",
      "metadata": {
        "id": "view-in-github",
        "colab_type": "text"
      },
      "source": [
        "<a href=\"https://colab.research.google.com/github/Lokesh-ramesh/Machine-Learning/blob/main/Lab2-enjoysport%2Csecond_dataset.ipynb\" target=\"_parent\"><img src=\"https://colab.research.google.com/assets/colab-badge.svg\" alt=\"Open In Colab\"/></a>"
      ]
    },
    {
      "cell_type": "markdown",
      "source": [
        "First data set execution"
      ],
      "metadata": {
        "id": "kZDnm-bT97Lk"
      }
    },
    {
      "cell_type": "code",
      "execution_count": 2,
      "metadata": {
        "id": "-nyLP16C1J-y"
      },
      "outputs": [],
      "source": [
        "import pandas as pd\n",
        "import numpy as np"
      ]
    },
    {
      "cell_type": "code",
      "source": [
        "from google.colab import drive\n",
        "drive.mount(\"/content/drive\")"
      ],
      "metadata": {
        "colab": {
          "base_uri": "https://localhost:8080/"
        },
        "id": "5VeA-F0O1XAK",
        "outputId": "6fa1e7f3-66de-4b47-bdc8-435b82a6b348"
      },
      "execution_count": 4,
      "outputs": [
        {
          "output_type": "stream",
          "name": "stdout",
          "text": [
            "Drive already mounted at /content/drive; to attempt to forcibly remount, call drive.mount(\"/content/drive\", force_remount=True).\n"
          ]
        }
      ]
    },
    {
      "cell_type": "code",
      "source": [
        "path=\"/content/drive/MyDrive/ML Lab/Lab 2/enjoysport.csv\""
      ],
      "metadata": {
        "id": "B7ZONbmM1kkh"
      },
      "execution_count": 6,
      "outputs": []
    },
    {
      "cell_type": "code",
      "source": [
        "data=pd.read_csv(path)"
      ],
      "metadata": {
        "id": "o7J-CktR1yWG"
      },
      "execution_count": 8,
      "outputs": []
    },
    {
      "cell_type": "code",
      "source": [
        "print(data,\"\\n\")"
      ],
      "metadata": {
        "colab": {
          "base_uri": "https://localhost:8080/"
        },
        "id": "eCm6WAKt13Cm",
        "outputId": "7fee1faf-870d-41ca-9682-859041434cbd"
      },
      "execution_count": 10,
      "outputs": [
        {
          "output_type": "stream",
          "name": "stdout",
          "text": [
            "     Sky AirTemp Humidity    Wind Water Forecast EnjoySport\n",
            "0  Sunny    Warm   Normal  Strong  Warm     Same        Yes\n",
            "1  Sunny    Warm     High  Strong  Warm     Same        Yes\n",
            "2  Rainy    Cold     High  Strong  Warm   Change         No\n",
            "3  Sunny    Warm     High  Strong  Cool   Change        Yes \n",
            "\n"
          ]
        }
      ]
    },
    {
      "cell_type": "code",
      "source": [
        "d=np.array(data)[:,:-1]\n",
        "print(\"attributes are:\",d)"
      ],
      "metadata": {
        "colab": {
          "base_uri": "https://localhost:8080/"
        },
        "id": "1YDy-9i135QK",
        "outputId": "b235662f-d34d-4ab6-eaf6-c04b1fbd415c"
      },
      "execution_count": 12,
      "outputs": [
        {
          "output_type": "stream",
          "name": "stdout",
          "text": [
            "attributes are: [['Sunny' 'Warm' 'Normal' 'Strong' 'Warm' 'Same']\n",
            " ['Sunny' 'Warm' 'High' 'Strong' 'Warm' 'Same']\n",
            " ['Rainy' 'Cold' 'High' 'Strong' 'Warm' 'Change']\n",
            " ['Sunny' 'Warm' 'High' 'Strong' 'Cool' 'Change']]\n"
          ]
        }
      ]
    },
    {
      "cell_type": "code",
      "source": [
        "target=np.array(data)[:,-1]\n",
        "print(\"target is:\",target)"
      ],
      "metadata": {
        "colab": {
          "base_uri": "https://localhost:8080/"
        },
        "id": "gXkwBIMG40O-",
        "outputId": "f7cea0d2-80b9-495e-f15a-1a5ada20c6ac"
      },
      "execution_count": 14,
      "outputs": [
        {
          "output_type": "stream",
          "name": "stdout",
          "text": [
            "target is: ['Yes' 'Yes' 'No' 'Yes']\n"
          ]
        }
      ]
    },
    {
      "cell_type": "code",
      "source": [
        "def findS(c,t):\n",
        "    for i,val in enumerate(t):\n",
        "      if val==\"Yes\":\n",
        "        specific_hypothesis=c[i].copy()\n",
        "        break\n",
        "    for i,val in enumerate(c):\n",
        "      if t[i]==\"Yes\":\n",
        "        for x in range (len(specific_hypothesis)):\n",
        "          if val[x]!=specific_hypothesis[x]:\n",
        "            specific_hypothesis[x]='?'\n",
        "          else:\n",
        "              pass\n",
        "    return specific_hypothesis\n",
        "print(\"/n final hypothesis is\",findS(d,target))"
      ],
      "metadata": {
        "colab": {
          "base_uri": "https://localhost:8080/"
        },
        "id": "eAQcJ1Fr5pRy",
        "outputId": "315f7a09-435d-49ab-e3a2-6df1fd1a0ffd"
      },
      "execution_count": 19,
      "outputs": [
        {
          "output_type": "stream",
          "name": "stdout",
          "text": [
            "/n final hypothesis is ['Sunny' 'Warm' '?' 'Strong' '?' '?']\n"
          ]
        }
      ]
    },
    {
      "cell_type": "markdown",
      "source": [
        "Second dataset execution-"
      ],
      "metadata": {
        "id": "jWjmapj0922z"
      }
    },
    {
      "cell_type": "code",
      "source": [
        "import pandas as pd\n",
        "import numpy as np"
      ],
      "metadata": {
        "id": "okLnF0qP90-S"
      },
      "execution_count": 21,
      "outputs": []
    },
    {
      "cell_type": "code",
      "source": [
        "path=\"/content/drive/MyDrive/ML Lab/Lab 2/seconddataset.csv\""
      ],
      "metadata": {
        "id": "Svv78myI-vaz"
      },
      "execution_count": 37,
      "outputs": []
    },
    {
      "cell_type": "code",
      "source": [
        "data=pd.read_csv(path)"
      ],
      "metadata": {
        "id": "SoLr5mlf-7jx"
      },
      "execution_count": 25,
      "outputs": []
    },
    {
      "cell_type": "code",
      "source": [
        "print(data,\"\\n\")"
      ],
      "metadata": {
        "colab": {
          "base_uri": "https://localhost:8080/"
        },
        "id": "iEnH1jwV--Od",
        "outputId": "0a6a6d24-af6a-4e27-a853-9e628fd93576"
      },
      "execution_count": 27,
      "outputs": [
        {
          "output_type": "stream",
          "name": "stdout",
          "text": [
            "   example citations    size inLibrary       price editions  buy\n",
            "0        1      some   small        no  affordable     many   no\n",
            "1        2      many     big        no   expensive      one  yes\n",
            "2        3      some     big    always   expensive      few   no\n",
            "3        4      many  medium        no   expensive     many  yes\n",
            "4        5      many   small        no  affordable     many  yes \n",
            "\n"
          ]
        }
      ]
    },
    {
      "cell_type": "code",
      "source": [
        "d=np.array(data)[:,:-1]\n",
        "print(\"attributes are:\",d)"
      ],
      "metadata": {
        "colab": {
          "base_uri": "https://localhost:8080/"
        },
        "id": "TmKfTLcE_BXs",
        "outputId": "2abc55c4-77ed-438f-8455-242ec88a674e"
      },
      "execution_count": 29,
      "outputs": [
        {
          "output_type": "stream",
          "name": "stdout",
          "text": [
            "attributes are: [[1 'some' 'small' 'no' 'affordable' 'many']\n",
            " [2 'many' 'big' 'no' 'expensive' 'one']\n",
            " [3 'some' 'big' 'always' 'expensive' 'few']\n",
            " [4 'many' 'medium' 'no' 'expensive' 'many']\n",
            " [5 'many' 'small' 'no' 'affordable' 'many']]\n"
          ]
        }
      ]
    },
    {
      "cell_type": "code",
      "source": [
        "target=np.array(data)[:,-1]\n",
        "print(\"target is:\",target)"
      ],
      "metadata": {
        "colab": {
          "base_uri": "https://localhost:8080/"
        },
        "id": "FhyS-ED0_FoH",
        "outputId": "2ee4ce03-5ce0-4a4c-9497-f813a80b8672"
      },
      "execution_count": 32,
      "outputs": [
        {
          "output_type": "stream",
          "name": "stdout",
          "text": [
            "target is: ['no' 'yes' 'no' 'yes' 'yes']\n"
          ]
        }
      ]
    }
  ]
}