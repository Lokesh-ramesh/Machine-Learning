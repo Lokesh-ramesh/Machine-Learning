{
  "nbformat": 4,
  "nbformat_minor": 0,
  "metadata": {
    "colab": {
      "provenance": [],
      "mount_file_id": "1KPYOlrLnigbZOtoI2azzJqyvpRCQvK6u",
      "authorship_tag": "ABX9TyNIlUG3E2yo3637WW0jmadS",
      "include_colab_link": true
    },
    "kernelspec": {
      "name": "python3",
      "display_name": "Python 3"
    },
    "language_info": {
      "name": "python"
    }
  },
  "cells": [
    {
      "cell_type": "markdown",
      "metadata": {
        "id": "view-in-github",
        "colab_type": "text"
      },
      "source": [
        "<a href=\"https://colab.research.google.com/github/Lokesh-ramesh/Machine-Learning/blob/main/Lab2-enjoysport%2Crandom.ipynb\" target=\"_parent\"><img src=\"https://colab.research.google.com/assets/colab-badge.svg\" alt=\"Open In Colab\"/></a>"
      ]
    },
    {
      "cell_type": "markdown",
      "source": [
        "First data set execution"
      ],
      "metadata": {
        "id": "kZDnm-bT97Lk"
      }
    },
    {
      "cell_type": "code",
      "execution_count": null,
      "metadata": {
        "id": "-nyLP16C1J-y"
      },
      "outputs": [],
      "source": [
        "import pandas as pd\n",
        "import numpy as np"
      ]
    },
    {
      "cell_type": "code",
      "source": [
        "from google.colab import drive\n",
        "drive.mount(\"/content/drive\")"
      ],
      "metadata": {
        "colab": {
          "base_uri": "https://localhost:8080/"
        },
        "id": "5VeA-F0O1XAK",
        "outputId": "6fa1e7f3-66de-4b47-bdc8-435b82a6b348"
      },
      "execution_count": null,
      "outputs": [
        {
          "output_type": "stream",
          "name": "stdout",
          "text": [
            "Drive already mounted at /content/drive; to attempt to forcibly remount, call drive.mount(\"/content/drive\", force_remount=True).\n"
          ]
        }
      ]
    },
    {
      "cell_type": "code",
      "source": [
        "path=\"/content/drive/MyDrive/ML Lab/Lab 2/enjoysport.csv\""
      ],
      "metadata": {
        "id": "B7ZONbmM1kkh"
      },
      "execution_count": null,
      "outputs": []
    },
    {
      "cell_type": "code",
      "source": [
        "data_first=pd.read_csv(path)"
      ],
      "metadata": {
        "id": "o7J-CktR1yWG"
      },
      "execution_count": null,
      "outputs": []
    },
    {
      "cell_type": "code",
      "source": [
        "print(data_first,\"\\n\")"
      ],
      "metadata": {
        "colab": {
          "base_uri": "https://localhost:8080/"
        },
        "id": "eCm6WAKt13Cm",
        "outputId": "4dfccd71-88cb-4a24-9c74-55972c92f9e0"
      },
      "execution_count": null,
      "outputs": [
        {
          "output_type": "stream",
          "name": "stdout",
          "text": [
            "     Sky AirTemp Humidity    Wind Water Forecast EnjoySport\n",
            "0  Sunny    Warm   Normal  Strong  Warm     Same        Yes\n",
            "1  Sunny    Warm     High  Strong  Warm     Same        Yes\n",
            "2  Rainy    Cold     High  Strong  Warm   Change         No\n",
            "3  Sunny    Warm     High  Strong  Cool   Change        Yes \n",
            "\n"
          ]
        }
      ]
    },
    {
      "cell_type": "code",
      "source": [
        "d=np.array(data_first)[:,:-1]\n",
        "print(\"attributes are:\",d)"
      ],
      "metadata": {
        "colab": {
          "base_uri": "https://localhost:8080/"
        },
        "id": "1YDy-9i135QK",
        "outputId": "4e4f5db6-b83e-4356-d06c-45f56ac20663"
      },
      "execution_count": null,
      "outputs": [
        {
          "output_type": "stream",
          "name": "stdout",
          "text": [
            "attributes are: [['Sunny' 'Warm' 'Normal' 'Strong' 'Warm' 'Same']\n",
            " ['Sunny' 'Warm' 'High' 'Strong' 'Warm' 'Same']\n",
            " ['Rainy' 'Cold' 'High' 'Strong' 'Warm' 'Change']\n",
            " ['Sunny' 'Warm' 'High' 'Strong' 'Cool' 'Change']]\n"
          ]
        }
      ]
    },
    {
      "cell_type": "code",
      "source": [
        "target=np.array(data_first)[:,-1]\n",
        "print(\"target is:\",target)"
      ],
      "metadata": {
        "colab": {
          "base_uri": "https://localhost:8080/"
        },
        "id": "gXkwBIMG40O-",
        "outputId": "82785e82-9009-48fd-ddb6-5d86a17e0aeb"
      },
      "execution_count": null,
      "outputs": [
        {
          "output_type": "stream",
          "name": "stdout",
          "text": [
            "target is: ['Yes' 'Yes' 'No' 'Yes']\n"
          ]
        }
      ]
    },
    {
      "cell_type": "code",
      "source": [
        "def findS(c,t):\n",
        "    for i,val in enumerate(t):\n",
        "      if val==\"Yes\":\n",
        "        specific_hypothesis=c[i].copy()\n",
        "        break\n",
        "    for i,val in enumerate(c):\n",
        "      if t[i]==\"Yes\":\n",
        "        for x in range (len(specific_hypothesis)):\n",
        "          if val[x]!=specific_hypothesis[x]:\n",
        "            specific_hypothesis[x]='?'\n",
        "          else:\n",
        "              pass\n",
        "    return specific_hypothesis\n",
        "print(\"final hypothesis is\",findS(d,target))"
      ],
      "metadata": {
        "colab": {
          "base_uri": "https://localhost:8080/"
        },
        "id": "eAQcJ1Fr5pRy",
        "outputId": "5c2e5143-041c-4fe1-c973-8242780a146d"
      },
      "execution_count": null,
      "outputs": [
        {
          "output_type": "stream",
          "name": "stdout",
          "text": [
            "final hypothesis is ['Sunny' 'Warm' '?' 'Strong' '?' '?']\n"
          ]
        }
      ]
    },
    {
      "cell_type": "markdown",
      "source": [
        "Second dataset execution-"
      ],
      "metadata": {
        "id": "jWjmapj0922z"
      }
    },
    {
      "cell_type": "code",
      "source": [
        "import pandas as pd\n",
        "import numpy as np"
      ],
      "metadata": {
        "id": "okLnF0qP90-S"
      },
      "execution_count": 1,
      "outputs": []
    },
    {
      "cell_type": "code",
      "source": [
        "path=\"/content/drive/MyDrive/ML Lab/Lab 2/seconddataset.csv\""
      ],
      "metadata": {
        "id": "Svv78myI-vaz"
      },
      "execution_count": 2,
      "outputs": []
    },
    {
      "cell_type": "code",
      "source": [
        "data_second=pd.read_csv(path)"
      ],
      "metadata": {
        "id": "SoLr5mlf-7jx"
      },
      "execution_count": 3,
      "outputs": []
    },
    {
      "cell_type": "code",
      "source": [
        "print(data_second,\"\\n\")"
      ],
      "metadata": {
        "colab": {
          "base_uri": "https://localhost:8080/"
        },
        "id": "iEnH1jwV--Od",
        "outputId": "72992f88-3110-4044-90b0-dcdff002f2b4"
      },
      "execution_count": 4,
      "outputs": [
        {
          "output_type": "stream",
          "name": "stdout",
          "text": [
            "  citations    size inLibrary       price editions  buy\n",
            "0      some   small        no  affordable     many   no\n",
            "1      many     big        no   expensive      one  yes\n",
            "2      some     big    always   expensive      few   no\n",
            "3      many  medium        no   expensive     many  yes\n",
            "4      many   small        no  affordable     many  yes \n",
            "\n"
          ]
        }
      ]
    },
    {
      "cell_type": "code",
      "source": [
        "d=np.array(data_second)[:,:-1]\n",
        "print(\"attributes are:\",d)"
      ],
      "metadata": {
        "colab": {
          "base_uri": "https://localhost:8080/"
        },
        "id": "TmKfTLcE_BXs",
        "outputId": "28a1a41e-9aea-4fa9-f710-52bd11a8cc61"
      },
      "execution_count": 5,
      "outputs": [
        {
          "output_type": "stream",
          "name": "stdout",
          "text": [
            "attributes are: [['some' 'small' 'no' 'affordable' 'many']\n",
            " ['many' 'big' 'no' 'expensive' 'one']\n",
            " ['some' 'big' 'always' 'expensive' 'few']\n",
            " ['many' 'medium' 'no' 'expensive' 'many']\n",
            " ['many' 'small' 'no' 'affordable' 'many']]\n"
          ]
        }
      ]
    },
    {
      "cell_type": "code",
      "source": [
        "target=np.array(data_second)[:,-1]\n",
        "print(\"target is:\",target)"
      ],
      "metadata": {
        "colab": {
          "base_uri": "https://localhost:8080/"
        },
        "id": "FhyS-ED0_FoH",
        "outputId": "66604787-801d-4ac6-92ff-2ef30dfa42a6"
      },
      "execution_count": 6,
      "outputs": [
        {
          "output_type": "stream",
          "name": "stdout",
          "text": [
            "target is: ['no' 'yes' 'no' 'yes' 'yes']\n"
          ]
        }
      ]
    },
    {
      "cell_type": "code",
      "source": [
        "def find_s(data,target):\n",
        "  for i,val in enumerate(target):\n",
        "    if val=='yes':\n",
        "      hypo=data[i].copy()\n",
        "      break\n",
        "  \n",
        "  for i,var in enumerate(data):\n",
        "    if target[i]==\"yes\":\n",
        "      for x in range(len(hypo)):\n",
        "        if var[x]!=hypo[x]:\n",
        "          hypo[x]='?'\n",
        "        else:\n",
        "          pass   \n",
        "\n",
        "  return hypo\n",
        "\n",
        "print(\"The Hypothesis is\",find_s(d,target))"
      ],
      "metadata": {
        "colab": {
          "base_uri": "https://localhost:8080/"
        },
        "id": "upKGoTazLv4v",
        "outputId": "bfaebdf3-95a9-4957-9a58-e06b4b56f0be"
      },
      "execution_count": 7,
      "outputs": [
        {
          "output_type": "stream",
          "name": "stdout",
          "text": [
            "The Hypothesis is ['many' '?' 'no' '?' '?']\n"
          ]
        }
      ]
    }
  ]
}